{
 "cells": [
  {
   "cell_type": "markdown",
   "metadata": {},
   "source": [
    "<h1><center> 2. Patterns</center></h1>"
   ]
  },
  {
   "cell_type": "markdown",
   "metadata": {},
   "source": [
    "## 2.1 Assertions \n",
    "should never be raised unless there is a bug in code.\n",
    "Its execution:\n",
    "<br>if __debug__: \n",
    "<br>&emsp;if not Condition: \n",
    "<br>&emsp;&emsp; AssertionError('msg') \n",
    "<br>asserts can be globaly disabled"
   ]
  },
  {
   "cell_type": "code",
   "execution_count": 1,
   "metadata": {},
   "outputs": [],
   "source": [
    "assert 2+2 == 4, 'it s end of the world'"
   ]
  },
  {
   "cell_type": "markdown",
   "metadata": {},
   "source": [
    "## 2.2 comma placement even at the end. "
   ]
  },
  {
   "cell_type": "code",
   "execution_count": 2,
   "metadata": {
    "scrolled": true
   },
   "outputs": [
    {
     "data": {
      "text/plain": [
       "['AliceBob']"
      ]
     },
     "execution_count": 2,
     "metadata": {},
     "output_type": "execute_result"
    }
   ],
   "source": [
    "# Be aware of python string concat:\n",
    "['Alice'\n",
    "'Bob']"
   ]
  },
  {
   "cell_type": "markdown",
   "metadata": {},
   "source": [
    "## 2.3 with statement"
   ]
  },
  {
   "cell_type": "code",
   "execution_count": 3,
   "metadata": {},
   "outputs": [],
   "source": [
    "with open('hello.txt', 'w') as f:\n",
    "    f.write('hello world')"
   ]
  },
  {
   "cell_type": "markdown",
   "metadata": {},
   "source": [
    "$execution:$\n",
    "<br>f = open('hello.txt', 'w')\n",
    "<br>try: \n",
    "<br>&emsp;f.write('hello world')\n",
    "<br>finally: \n",
    "<br> &emsp;f.close()\n",
    "<br>Try is important as if f.write fails, the file won't be closed. Leak!\n",
    "<br>You can charge your own class with $with$ feature (see also @contextmanager decorator)"
   ]
  },
  {
   "cell_type": "code",
   "execution_count": 4,
   "metadata": {},
   "outputs": [],
   "source": [
    "class Tab():\n",
    "    def __init__(self):\n",
    "        self._level = 0\n",
    "        \n",
    "    def __enter__(self):\n",
    "        self._level +=1\n",
    "        return self #object = __enter__(self)\n",
    "    \n",
    "    def __exit__(self, type_, val, tb):\n",
    "        self._level -=1\n",
    "        \n",
    "    def print(self, text):\n",
    "        print('    '*self._level + text)"
   ]
  },
  {
   "cell_type": "code",
   "execution_count": 5,
   "metadata": {
    "scrolled": true
   },
   "outputs": [
    {
     "name": "stdout",
     "output_type": "stream",
     "text": [
      "    enter 0 level\n",
      "        enter 1 level\n",
      "     exit 0 level\n"
     ]
    }
   ],
   "source": [
    "with Tab() as tab:\n",
    "    tab.print('enter 0 level')\n",
    "    with tab:\n",
    "        tab.print('enter 1 level')\n",
    "    tab.print(' exit 0 level')"
   ]
  },
  {
   "cell_type": "markdown",
   "metadata": {},
   "source": [
    "## 2.4 Underscores\n",
    "1. _$var$: convention for internal use only (not imported with wildcard import *)\n",
    "- $var$_ : convention to avoid naming conflict\n",
    "-  _ : dummy OR result of the last expression in REPL session\n",
    "-  __ $var$__ : special Python methods\n",
    "-  __$var$: name mangling \n",
    "<br>\n",
    "__$var$ is stored as <font color='blue'>_ClassName__var</font>  to avoid name conflicts for inherited classes. \n",
    "<br> but inside a class you can refer to simple self.__$var$. It would automatically call <font color='blue'>_ClassName__var</font>"
   ]
  },
  {
   "cell_type": "code",
   "execution_count": 6,
   "metadata": {},
   "outputs": [
    {
     "data": {
      "text/plain": [
       "'hello'"
      ]
     },
     "execution_count": 6,
     "metadata": {},
     "output_type": "execute_result"
    }
   ],
   "source": [
    "class dunder():\n",
    "    def __init__(self):\n",
    "        self.__var = 'hello'\n",
    "    def get_var(self):\n",
    "        return self.__var\n",
    "    \n",
    "# dunder().__var    \n",
    "\"dunder object has no attribute __var\"\n",
    "dunder().get_var()"
   ]
  },
  {
   "cell_type": "markdown",
   "metadata": {},
   "source": [
    "## 2.5 String formatting"
   ]
  },
  {
   "cell_type": "code",
   "execution_count": 7,
   "metadata": {},
   "outputs": [
    {
     "data": {
      "text/plain": [
       "'Welcome people to 2019.0'"
      ]
     },
     "execution_count": 7,
     "metadata": {},
     "output_type": "execute_result"
    }
   ],
   "source": [
    "my_str = 'people'\n",
    "my_flt = 2019.\n",
    "'Welcome %s to %f' % (my_str, my_flt)                                 # old style\n",
    "'Welcome {my_str} to {my_flt:f}'.format(my_str=my_str, my_flt=my_flt) # new style\n",
    "f'Welcome {my_str} to {my_flt}'                                       # f-string"
   ]
  },
  {
   "cell_type": "markdown",
   "metadata": {},
   "source": [
    "<h1><center> 3. Functions </center></h1>\n",
    "Behavior in your program"
   ]
  },
  {
   "cell_type": "markdown",
   "metadata": {},
   "source": [
    "## 3.1 First-Class functions. \n",
    "- assign them to variables\n",
    "- store them in data structures\n",
    "- pass as arguments to other functions\n",
    "- return them as values from other functions"
   ]
  },
  {
   "cell_type": "code",
   "execution_count": 8,
   "metadata": {},
   "outputs": [
    {
     "name": "stdout",
     "output_type": "stream",
     "text": [
      "cry.__name__ =  shout\n"
     ]
    },
    {
     "data": {
      "text/plain": [
       "'HEY!'"
      ]
     },
     "execution_count": 8,
     "metadata": {},
     "output_type": "execute_result"
    }
   ],
   "source": [
    "def shout(text):\n",
    "    return text.upper() + '!'\n",
    "\n",
    "cry = shout\n",
    "del shout                              # no shout anymore\n",
    "print('cry.__name__ = ', cry.__name__) # for debug\n",
    "cry('hey')"
   ]
  },
  {
   "cell_type": "markdown",
   "metadata": {},
   "source": [
    "__High order functions__ accept other functions as arguments. Map() is classic example"
   ]
  },
  {
   "cell_type": "code",
   "execution_count": 9,
   "metadata": {},
   "outputs": [
    {
     "data": {
      "text/plain": [
       "['HELLO!', 'OK!', 'NICE!']"
      ]
     },
     "execution_count": 9,
     "metadata": {},
     "output_type": "execute_result"
    }
   ],
   "source": [
    "list(map(cry, ['hello', 'ok', 'nice']))"
   ]
  },
  {
   "cell_type": "markdown",
   "metadata": {},
   "source": [
    "__Nested functions__ are functions defined in main function every time you call the last one. "
   ]
  },
  {
   "cell_type": "code",
   "execution_count": 10,
   "metadata": {},
   "outputs": [],
   "source": [
    "def speak_factory(volume):\n",
    "    def low(text):\n",
    "        return text.lower() + '...'\n",
    "    def shout(text):\n",
    "        return text.upper() + '!'\n",
    "    if volume > 0.5:\n",
    "        return shout\n",
    "    else:\n",
    "        return low"
   ]
  },
  {
   "cell_type": "markdown",
   "metadata": {},
   "source": [
    "speak_factory returns the BEHAVIOUR (other function).\n",
    "<br>\n",
    "Nested function do not exist outside, but they can be returned. \n"
   ]
  },
  {
   "cell_type": "markdown",
   "metadata": {},
   "source": [
    "### Closures: Function that closure local state \n",
    "Above, we can redefine (with second argument) spreak_factory (volume, text) and the nested function without arguments: just low() and shout().\n",
    "<br>\n",
    "In this case the returned function is again nested but already with charged text argument in memory from parent function!\n",
    "<br>\n",
    "Speak_factory becomes less universal as we alreaddy charge the Local State to returned function. We closure the universality by precise local state.\n",
    "<br>\n",
    "charged_func = speak_factory ('I am local state', 0.7)\n",
    "<br>\n",
    "charged_func() &emsp;&emsp;&emsp; <-- simple call without arguments. They were already charged/closured"
   ]
  },
  {
   "cell_type": "markdown",
   "metadata": {},
   "source": [
    "Other example:"
   ]
  },
  {
   "cell_type": "code",
   "execution_count": 11,
   "metadata": {},
   "outputs": [],
   "source": [
    "def make_adder(n):\n",
    "    def add(x):\n",
    "        return x + n\n",
    "    return add"
   ]
  },
  {
   "cell_type": "markdown",
   "metadata": {},
   "source": [
    "We closure universal function add to specific function (ex. plus_n) by parameter n so it can add only +3 for any passing argument"
   ]
  },
  {
   "cell_type": "code",
   "execution_count": 12,
   "metadata": {},
   "outputs": [
    {
     "data": {
      "text/plain": [
       "8"
      ]
     },
     "execution_count": 12,
     "metadata": {},
     "output_type": "execute_result"
    }
   ],
   "source": [
    "plus_3 = make_adder(3)\n",
    "plus_3(5)"
   ]
  },
  {
   "cell_type": "markdown",
   "metadata": {},
   "source": [
    "We could do the same via classes: defining $__call__$ method that returns self.n + x\n",
    "<br>\n",
    "Class Adder ...(to define) ...\n",
    "<br>\n",
    "plus_3 = Adder(3)"
   ]
  },
  {
   "cell_type": "markdown",
   "metadata": {},
   "source": [
    "## 3.2 Lambda is single-expression function"
   ]
  },
  {
   "cell_type": "code",
   "execution_count": 13,
   "metadata": {},
   "outputs": [
    {
     "data": {
      "text/plain": [
       "8"
      ]
     },
     "execution_count": 13,
     "metadata": {},
     "output_type": "execute_result"
    }
   ],
   "source": [
    "(lambda x, y: x+y) (5,3)"
   ]
  },
  {
   "cell_type": "code",
   "execution_count": 14,
   "metadata": {},
   "outputs": [
    {
     "data": {
      "text/plain": [
       "[(2, 'a'), (3, 'b'), (1, 'c')]"
      ]
     },
     "execution_count": 14,
     "metadata": {},
     "output_type": "execute_result"
    }
   ],
   "source": [
    "pairs = [(1,'c'), (2, 'a'), (3,'b')]\n",
    "sorted(pairs, key = lambda x: x[1])"
   ]
  },
  {
   "cell_type": "markdown",
   "metadata": {},
   "source": [
    "you can sort by any arbitrary rule. just precise it after lambda x: x*exp(x). F\n",
    "<br>\n",
    "p.s. see also .itemgetter() function. it's more concise"
   ]
  },
  {
   "cell_type": "markdown",
   "metadata": {},
   "source": [
    "Lambdas may be used for nested functions"
   ]
  },
  {
   "cell_type": "code",
   "execution_count": 15,
   "metadata": {},
   "outputs": [
    {
     "data": {
      "text/plain": [
       "7"
      ]
     },
     "execution_count": 15,
     "metadata": {},
     "output_type": "execute_result"
    }
   ],
   "source": [
    "def make_adder(n):\n",
    "    return lambda x: n + x\n",
    "plus_3 = make_adder(3)\n",
    "plus_3(4)"
   ]
  },
  {
   "cell_type": "markdown",
   "metadata": {},
   "source": [
    "Do not abuse the use of lambda. Consider simple use only. (c) ZenPy: Readability counts "
   ]
  },
  {
   "cell_type": "markdown",
   "metadata": {},
   "source": [
    "## 3.4 * args & ** kwargs"
   ]
  },
  {
   "cell_type": "code",
   "execution_count": 16,
   "metadata": {},
   "outputs": [
    {
     "name": "stdout",
     "output_type": "stream",
     "text": [
      "hello (1, 2, 3) {'key1': 'value', 'key2': 999}\n",
      "hello (1, 2, 3, 'extra', 666) {'key1': 'value', 'key2': 999, 'new': 'Im new'}\n"
     ]
    }
   ],
   "source": [
    "def foo(x, *args, **kwargs):\n",
    "    print(x, args, kwargs)\n",
    "    args = args + ('extra', 666)\n",
    "    kwargs['new'] = 'Im new'\n",
    "    print(x, args, kwargs)\n",
    "    \n",
    "foo('hello', 1, 2, 3, key1 = 'value', key2 = 999)"
   ]
  },
  {
   "cell_type": "code",
   "execution_count": 17,
   "metadata": {},
   "outputs": [
    {
     "data": {
      "text/plain": [
       "4"
      ]
     },
     "execution_count": 17,
     "metadata": {},
     "output_type": "execute_result"
    }
   ],
   "source": [
    "class ABCD:\n",
    "    def __init__(self, a, b, c, d):\n",
    "        self.A = a; self.B = b; self.C = c; self.D = d\n",
    "        \n",
    "class D4 (ABCD):\n",
    "    def __init__(self, *args):\n",
    "        super().__init__(*args)\n",
    "        self.D = 4\n",
    "        \n",
    "D4(1,1,1,'dummy').D"
   ]
  },
  {
   "cell_type": "markdown",
   "metadata": {},
   "source": [
    "if you add new arguments to ABCD class: __ init __ (self, a, b, c, d, e, f ..)\n",
    "<br>\n",
    "no need to change D4 class"
   ]
  },
  {
   "cell_type": "markdown",
   "metadata": {},
   "source": [
    "### Unpacking"
   ]
  },
  {
   "cell_type": "code",
   "execution_count": 18,
   "metadata": {},
   "outputs": [
    {
     "name": "stdout",
     "output_type": "stream",
     "text": [
      "1, 0, 1\n",
      "1, 0, 1\n",
      "y, x, z\n",
      "1, 0, 1\n"
     ]
    }
   ],
   "source": [
    "def print_vector(x,y,z):\n",
    "    print(f'{x}, {y}, {z}')\n",
    "    \n",
    "print_vector(1,0,1)\n",
    "\n",
    "list_vec = [1, 0, 1]\n",
    "print_vector(*list_vec)\n",
    "\n",
    "dict_vec = {'y': 0, 'x': 1, 'z': 1}\n",
    "print_vector(*dict_vec)\n",
    "print_vector(**dict_vec)"
   ]
  },
  {
   "cell_type": "markdown",
   "metadata": {},
   "source": [
    "Dicts are __unordered__ => unpacking matches func args to dict values based on dict keys"
   ]
  },
  {
   "cell_type": "markdown",
   "metadata": {},
   "source": [
    "## 3.3 Decorators\n",
    "decorate or wrap another function. they can change or extend the behavior without modifying wrapped function itself"
   ]
  },
  {
   "cell_type": "code",
   "execution_count": 19,
   "metadata": {},
   "outputs": [
    {
     "data": {
      "text/plain": [
       "'HELLO!'"
      ]
     },
     "execution_count": 19,
     "metadata": {},
     "output_type": "execute_result"
    }
   ],
   "source": [
    "def shout(func):\n",
    "    def wrapper():\n",
    "        return func().upper() + '!'\n",
    "    return wrapper\n",
    "\n",
    "@shout\n",
    "def hello():\n",
    "    \"\"\"hello doc\"\"\"\n",
    "    return 'hello'\n",
    "\n",
    "hello()"
   ]
  },
  {
   "cell_type": "markdown",
   "metadata": {},
   "source": [
    "syntax: <font color='purple'>@decorator</font> <>\n",
    "func = decorator(func) &emsp;&emsp;&emsp; <- func is overwritten\n",
    "- decorated function is a new function \n",
    "- want to keep initial func?  decorate explicitely func2 = decorator(func)\n",
    "- multi decorators from bottom to top"
   ]
  },
  {
   "cell_type": "code",
   "execution_count": 20,
   "metadata": {},
   "outputs": [],
   "source": [
    "def traces(func):\n",
    "    def wrapper(*args, **kwargs):\n",
    "        result = func(*args, **kwargs)\n",
    "        print(f'TRACE: calling {func.__name__}() with {args}, {kwargs} \\n'\n",
    "              f'returned: {result}')\n",
    "        return result\n",
    "    return wrapper"
   ]
  },
  {
   "cell_type": "code",
   "execution_count": 21,
   "metadata": {},
   "outputs": [
    {
     "name": "stdout",
     "output_type": "stream",
     "text": [
      "TRACE: calling suma() with (3, 4), {} \n",
      "returned: 7\n"
     ]
    },
    {
     "data": {
      "text/plain": [
       "7"
      ]
     },
     "execution_count": 21,
     "metadata": {},
     "output_type": "execute_result"
    }
   ],
   "source": [
    "@traces\n",
    "def suma (a,b):\n",
    "    return a+b\n",
    "\n",
    "suma(3,4)"
   ]
  },
  {
   "cell_type": "markdown",
   "metadata": {},
   "source": [
    "Decorator hides some metadata from original function:"
   ]
  },
  {
   "cell_type": "code",
   "execution_count": 22,
   "metadata": {},
   "outputs": [
    {
     "data": {
      "text/plain": [
       "('ok', 'say ok')"
      ]
     },
     "execution_count": 22,
     "metadata": {},
     "output_type": "execute_result"
    }
   ],
   "source": [
    "def ok():\n",
    "    \"say ok\"\n",
    "    return 'ok'\n",
    "ok.__name__, ok.__doc__"
   ]
  },
  {
   "cell_type": "code",
   "execution_count": 23,
   "metadata": {},
   "outputs": [
    {
     "data": {
      "text/plain": [
       "('wrapper', None)"
      ]
     },
     "execution_count": 23,
     "metadata": {},
     "output_type": "execute_result"
    }
   ],
   "source": [
    "ok2 = shout(ok)\n",
    "ok2.__name__, ok2.__doc__"
   ]
  },
  {
   "cell_type": "code",
   "execution_count": 24,
   "metadata": {},
   "outputs": [
    {
     "data": {
      "text/plain": [
       "('ok', 'say ok')"
      ]
     },
     "execution_count": 24,
     "metadata": {},
     "output_type": "execute_result"
    }
   ],
   "source": [
    "import functools\n",
    "\n",
    "def shout(func):\n",
    "    @functools.wraps(func)\n",
    "    def wrapper():\n",
    "        return func().upper() + '!'\n",
    "    return wrapper\n",
    "\n",
    "ok2 = shout(ok)\n",
    "ok2.__name__, ok2.__doc__"
   ]
  }
 ],
 "metadata": {
  "kernelspec": {
   "display_name": "Python 3",
   "language": "python",
   "name": "python3"
  },
  "language_info": {
   "codemirror_mode": {
    "name": "ipython",
    "version": 3
   },
   "file_extension": ".py",
   "mimetype": "text/x-python",
   "name": "python",
   "nbconvert_exporter": "python",
   "pygments_lexer": "ipython3",
   "version": "3.7.1"
  }
 },
 "nbformat": 4,
 "nbformat_minor": 1
}
