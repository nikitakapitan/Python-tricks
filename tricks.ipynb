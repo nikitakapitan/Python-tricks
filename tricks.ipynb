{
 "cells": [
  {
   "cell_type": "markdown",
   "metadata": {
    "collapsed": true
   },
   "source": [
    "## 2. Patterns"
   ]
  },
  {
   "cell_type": "markdown",
   "metadata": {},
   "source": [
    "### 2.1 Assertions \n",
    "should never be raised unless there is a bug in code.\n",
    "Its execution:\n",
    "<br>if __debug__: \n",
    "<br>&emsp;if not Condition: \n",
    "<br>&emsp;&emsp; AssertionError('msg') \n",
    "<br>asserts can be globaly disabled"
   ]
  },
  {
   "cell_type": "code",
   "execution_count": 22,
   "metadata": {},
   "outputs": [],
   "source": [
    "assert 2+2 == 4, 'it s end of the world'"
   ]
  },
  {
   "cell_type": "markdown",
   "metadata": {},
   "source": [
    "### 2.2 comma placement even at the end. "
   ]
  },
  {
   "cell_type": "code",
   "execution_count": 17,
   "metadata": {
    "scrolled": true
   },
   "outputs": [
    {
     "data": {
      "text/plain": [
       "['AliceBob']"
      ]
     },
     "execution_count": 17,
     "metadata": {},
     "output_type": "execute_result"
    }
   ],
   "source": [
    "# Be aware of python string concat:\n",
    "['Alice'\n",
    "'Bob']"
   ]
  },
  {
   "cell_type": "markdown",
   "metadata": {},
   "source": [
    "### 2.3 with statement"
   ]
  },
  {
   "cell_type": "code",
   "execution_count": null,
   "metadata": {},
   "outputs": [],
   "source": [
    "with open('hello.txt', 'w') as f:\n",
    "    f.write('hello world')"
   ]
  },
  {
   "cell_type": "markdown",
   "metadata": {},
   "source": [
    "$execution:$\n",
    "<br>f = open('hello.txt', 'w')\n",
    "<br>try: \n",
    "<br>&emsp;f.write('hello world')\n",
    "<br>finally: \n",
    "<br> &emsp;f.close()\n",
    "<br>Try is important as if f.write fails, the file won't be closed. Leak!\n",
    "<br>You can charge your own class with $with$ feature (see also @contextmanager decorator)"
   ]
  },
  {
   "cell_type": "code",
   "execution_count": 15,
   "metadata": {},
   "outputs": [],
   "source": [
    "class Tab():\n",
    "    def __init__(self):\n",
    "        self._level = 0\n",
    "        \n",
    "    def __enter__(self):\n",
    "        self._level +=1\n",
    "        return self #object = __enter__(self)\n",
    "    \n",
    "    def __exit__(self, type_, val, tb):\n",
    "        self._level -=1\n",
    "        \n",
    "    def print(self, text):\n",
    "        print('    '*self._level + text)"
   ]
  },
  {
   "cell_type": "code",
   "execution_count": 16,
   "metadata": {
    "scrolled": true
   },
   "outputs": [
    {
     "name": "stdout",
     "output_type": "stream",
     "text": [
      "    enter 0 level\n",
      "        enter 1 level\n",
      "     exit 0 level\n"
     ]
    }
   ],
   "source": [
    "with Tab() as tab:\n",
    "    tab.print('enter 0 level')\n",
    "    with tab:\n",
    "        tab.print('enter 1 level')\n",
    "    tab.print(' exit 0 level')"
   ]
  },
  {
   "cell_type": "markdown",
   "metadata": {},
   "source": [
    "### 2.4 Underscores\n",
    "1. _$var$: convention for internal use only (not imported with wildcard import *)\n",
    "- $var$_ : convention to avoid naming conflict\n",
    "-  _ : dummy OR result of the last expression in REPL session\n",
    "-  __ $var$__ : special Python methods\n",
    "-  __$var$: name mangling \n",
    "<br>\n",
    "__$var$ is stored as <font color='blue'>_ClassName__var</font>  to avoid name conflicts for inherited classes. \n",
    "<br> but inside a class you can refer to simple self.__$var$. It would automatically call <font color='blue'>_ClassName__var</font>"
   ]
  },
  {
   "cell_type": "code",
   "execution_count": 27,
   "metadata": {},
   "outputs": [
    {
     "data": {
      "text/plain": [
       "'hello'"
      ]
     },
     "execution_count": 27,
     "metadata": {},
     "output_type": "execute_result"
    }
   ],
   "source": [
    "class dunder():\n",
    "    def __init__(self):\n",
    "        self.__var = 'hello'\n",
    "    def get_var(self):\n",
    "        return self.__var\n",
    "    \n",
    "# dunder().__var    \n",
    "\"dunder object has no attribute __var\"\n",
    "dunder().get_var()"
   ]
  },
  {
   "cell_type": "markdown",
   "metadata": {},
   "source": [
    "### 2.5 String formatting"
   ]
  },
  {
   "cell_type": "code",
   "execution_count": 49,
   "metadata": {},
   "outputs": [
    {
     "data": {
      "text/plain": [
       "'Welcome people to 2019.0'"
      ]
     },
     "execution_count": 49,
     "metadata": {},
     "output_type": "execute_result"
    }
   ],
   "source": [
    "my_str = 'people'\n",
    "my_flt = 2019.\n",
    "'Welcome %s to %f' % (my_str, my_flt)                                 # old style\n",
    "'Welcome {my_str} to {my_flt:f}'.format(my_str=my_str, my_flt=my_flt) # new style\n",
    "f'Welcome {my_str} to {my_flt}'                                       # f-string"
   ]
  }
 ],
 "metadata": {
  "kernelspec": {
   "display_name": "Python 3",
   "language": "python",
   "name": "python3"
  },
  "language_info": {
   "codemirror_mode": {
    "name": "ipython",
    "version": 3
   },
   "file_extension": ".py",
   "mimetype": "text/x-python",
   "name": "python",
   "nbconvert_exporter": "python",
   "pygments_lexer": "ipython3",
   "version": "3.7.1"
  }
 },
 "nbformat": 4,
 "nbformat_minor": 1
}
