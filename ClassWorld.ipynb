{
 "cells": [
  {
   "cell_type": "code",
   "execution_count": 1,
   "metadata": {},
   "outputs": [],
   "source": [
    "class ClassWorld:\n",
    "    def __init__(self, var1):\n",
    "        self.var1 = var1\n",
    "        \n",
    "    def __enter__(self):\n",
    "        \"each time you use with statement to object\"\n",
    "        return self\n",
    "    \n",
    "    def __exit__(self, type_, val, tb):\n",
    "        \"each time you leave object timelife zone\"\n",
    "        \n",
    "    def __call__(self):\n",
    "        \"makes you object callable: obj()\"\n",
    "        \n",
    "    def __repr__(self):\n",
    "        \"obj representation for debug. If no __str__ defined, __str__ -> __repr__\"\n",
    "        return f'{self._class__.__name__}(' f'{self.var1})'\n",
    "    \n",
    "    \n",
    "    def copy(self):\n",
    "        return copy.copy(self)\n",
    "    def deepcopy\n",
    "        return copy.deepcopy(self)"
   ]
  },
  {
   "cell_type": "markdown",
   "metadata": {},
   "source": [
    "### super()\n",
    "is a temporary object from parent class.\n",
    "<bar>\n",
    "You may want to __ init __ your subclass in the same way as parent class did:"
   ]
  },
  {
   "cell_type": "code",
   "execution_count": 2,
   "metadata": {},
   "outputs": [],
   "source": [
    "class SubClass(ClassWorld):\n",
    "    def __init__(self, *args):\n",
    "        super().__init__(*args)\n",
    "        \n",
    "obj = SubClass(4) # self.var1"
   ]
  }
 ],
 "metadata": {
  "kernelspec": {
   "display_name": "Python 3",
   "language": "python",
   "name": "python3"
  },
  "language_info": {
   "codemirror_mode": {
    "name": "ipython",
    "version": 3
   },
   "file_extension": ".py",
   "mimetype": "text/x-python",
   "name": "python",
   "nbconvert_exporter": "python",
   "pygments_lexer": "ipython3",
   "version": "3.7.1"
  }
 },
 "nbformat": 4,
 "nbformat_minor": 2
}
