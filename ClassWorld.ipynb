{
 "cells": [
  {
   "cell_type": "code",
   "execution_count": 1,
   "metadata": {},
   "outputs": [],
   "source": [
    "class ClassWorld():\n",
    "    def __init__(self, var1):\n",
    "        self.var1 = var1\n",
    "        \n",
    "    def __enter__(self):\n",
    "        \"each time you use with statement to object\"\n",
    "        return self\n",
    "    \n",
    "    def __exit__(self, type_, val, tb):\n",
    "        \"each time you leave object timelife zone\"\n",
    "        \n",
    "    def print(self, text):\n",
    "        \"overload print function\"\n",
    "        \n",
    "    def __call__(self):\n",
    "        \"makes you object callable: obj()\""
   ]
  }
 ],
 "metadata": {
  "kernelspec": {
   "display_name": "Python 3",
   "language": "python",
   "name": "python3"
  },
  "language_info": {
   "codemirror_mode": {
    "name": "ipython",
    "version": 3
   },
   "file_extension": ".py",
   "mimetype": "text/x-python",
   "name": "python",
   "nbconvert_exporter": "python",
   "pygments_lexer": "ipython3",
   "version": "3.7.1"
  }
 },
 "nbformat": 4,
 "nbformat_minor": 2
}
